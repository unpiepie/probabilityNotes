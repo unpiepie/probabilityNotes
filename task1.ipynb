{
 "cells": [
  {
   "cell_type": "code",
   "execution_count": 6,
   "metadata": {},
   "outputs": [],
   "source": [
    "import numpy as np\n",
    "import matplotlib.pyplot as plt\n",
    "import math\n",
    "from scipy import stats"
   ]
  },
  {
   "cell_type": "code",
   "execution_count": 3,
   "metadata": {},
   "outputs": [
    {
     "name": "stdout",
     "output_type": "stream",
     "text": [
      "[[ 6.4016977  -0.14164965]\n",
      " [-0.14164965  6.58474374]]\n",
      "[[ 1.         -0.02181717]\n",
      " [-0.02181717  1.        ]]\n"
     ]
    }
   ],
   "source": [
    "# Generate randomly samples\n",
    "x = np.random.randint(0,9,1000)\n",
    "y = np.random.randint(0,9,1000)\n",
    "# Mean calculation\n",
    "mx = x.mean()\n",
    "my = y.mean()\n",
    "# std\n",
    "stdx = x.std()\n",
    "stdy = y.std()\n",
    "#cov matrix\n",
    "convxy = np.cov(x,y)\n",
    "print(convxy)\n",
    "# cov efficient\n",
    "coefxy = np.corrcoef(x,y)\n",
    "print(coefxy)"
   ]
  },
  {
   "cell_type": "code",
   "execution_count": 5,
   "metadata": {},
   "outputs": [
    {
     "name": "stdout",
     "output_type": "stream",
     "text": [
      "6.395295999999998\n",
      "6.578158999999999\n",
      "-0.1415079999999999\n"
     ]
    }
   ],
   "source": [
    "# Verification\n",
    "covx = np.mean((x-x.mean()) ** 2)\n",
    "covy = np.mean((y-y.mean()) ** 2)\n",
    "print(covx)\n",
    "print(covy)\n",
    "covxy = np.mean((x-x.mean())*(y-y.mean()))\n",
    "print(covxy)"
   ]
  },
  {
   "cell_type": "code",
   "execution_count": 16,
   "metadata": {},
   "outputs": [
    {
     "name": "stdout",
     "output_type": "stream",
     "text": [
      "[3.65615844e-05 4.87487792e-04 3.08742268e-03 1.23496907e-02\n",
      " 3.49907904e-02 7.46470195e-02 1.24411699e-01 1.65882266e-01\n",
      " 1.79705788e-01 1.59738478e-01 1.17141551e-01 7.09948791e-02\n",
      " 3.54974396e-02 1.45630521e-02 4.85435071e-03 1.29449352e-03\n",
      " 2.69686150e-04 4.23037099e-05 4.70041221e-06 3.29853488e-07\n",
      " 1.09951163e-08 0.00000000e+00 0.00000000e+00 0.00000000e+00\n",
      " 0.00000000e+00 0.00000000e+00 0.00000000e+00 0.00000000e+00\n",
      " 0.00000000e+00 0.00000000e+00 0.00000000e+00 0.00000000e+00\n",
      " 0.00000000e+00 0.00000000e+00 0.00000000e+00 0.00000000e+00\n",
      " 0.00000000e+00 0.00000000e+00 0.00000000e+00 0.00000000e+00]\n"
     ]
    },
    {
     "data": {
      "image/png": "[encoded data removed]",
      "text/plain": [
       "<Figure size 432x288 with 1 Axes>"
      ]
     },
     "metadata": {
      "needs_background": "light"
     },
     "output_type": "display_data"
    }
   ],
   "source": [
    "# 二项分布\n",
    "# 抽了20次硬币/抽中正面，每次概率为0.4\n",
    "n = 20\n",
    "p = 0.4\n",
    "k = np.arange(0,40)\n",
    "binomial = stats.binom.pmf(k,n,p)\n",
    "print (binomial)\n",
    "plt.plot(k,binomial,'o-')\n",
    "plt.title('binomial:n=%i,p=%.2f'%(n,p),fontsize=10)\n",
    "plt.xlabel('Test time')\n",
    "plt.ylabel('Success Prabability')\n",
    "plt.show()"
   ]
  },
  {
   "cell_type": "code",
   "execution_count": null,
   "metadata": {},
   "outputs": [],
   "source": []
  }
 ],
 "metadata": {
  "kernelspec": {
   "display_name": "Python 3",
   "language": "python",
   "name": "python3"
  },
  "language_info": {
   "codemirror_mode": {
    "name": "ipython",
    "version": 3
   },
   "file_extension": ".py",
   "mimetype": "text/x-python",
   "name": "python",
   "nbconvert_exporter": "python",
   "pygments_lexer": "ipython3",
   "version": "3.7.7"
  }
 },
 "nbformat": 4,
 "nbformat_minor": 4
}
